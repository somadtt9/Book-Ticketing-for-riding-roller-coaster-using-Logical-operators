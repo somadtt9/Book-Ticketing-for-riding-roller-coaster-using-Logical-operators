{
 "cells": [
  {
   "cell_type": "code",
   "execution_count": 1,
   "metadata": {},
   "outputs": [
    {
     "name": "stdout",
     "output_type": "stream",
     "text": [
      "Welcome to the Rollercoaster!\n",
      "What is your height in cm?183\n",
      "You can ride the Rollercoaster!\n",
      "What is your age?30\n",
      "Adult tickets are $12.\n",
      "Do you want a photo taken? Y or N.Y\n",
      "Your final bill is $15\n"
     ]
    }
   ],
   "source": [
    "print(\"Welcome to the Rollercoaster!\")\n",
    "height = int(input(\"What is your height in cm?\"))\n",
    "bill = 0\n",
    "\n",
    "if height >= 120:\n",
    "    print(\"You can ride the Rollercoaster!\")\n",
    "    age = int(input(\"What is your age?\"))\n",
    "    if age < 12:\n",
    "        bill = 5\n",
    "        print(\"Children tickets are $5.\")\n",
    "    elif age <= 18:\n",
    "        bill = 7\n",
    "        print(\"Youth tickets are $7.\")\n",
    "    elif age >= 45 and age <=55 :\n",
    "        print(\"Everything is going to be ok. Have a free ride on Rollercoaster!\")\n",
    "    else:\n",
    "        bill = 12\n",
    "        print(\"Adult tickets are $12.\")\n",
    "        \n",
    "    wants_photo = input(\"Do you want a photo taken? Y or N.\")\n",
    "    if wants_photo == \"Y\":\n",
    "        bill += 3\n",
    "    print(f\"Your final bill is ${bill}\") \n",
    "    \n",
    "else:\n",
    "    print(\"Sorry, you have to grow taller to ride the Rollercoaster.\")"
   ]
  },
  {
   "cell_type": "code",
   "execution_count": null,
   "metadata": {},
   "outputs": [],
   "source": []
  }
 ],
 "metadata": {
  "kernelspec": {
   "display_name": "Python 3 (ipykernel)",
   "language": "python",
   "name": "python3"
  },
  "language_info": {
   "codemirror_mode": {
    "name": "ipython",
    "version": 3
   },
   "file_extension": ".py",
   "mimetype": "text/x-python",
   "name": "python",
   "nbconvert_exporter": "python",
   "pygments_lexer": "ipython3",
   "version": "3.9.12"
  }
 },
 "nbformat": 4,
 "nbformat_minor": 4
}
